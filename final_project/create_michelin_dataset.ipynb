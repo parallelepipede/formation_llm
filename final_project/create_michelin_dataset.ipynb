{
 "cells": [
  {
   "cell_type": "code",
   "execution_count": 11,
   "metadata": {},
   "outputs": [],
   "source": [
    "import pandas as pd\n",
    "from random import choice\n",
    "from datasets import Dataset"
   ]
  },
  {
   "cell_type": "code",
   "execution_count": 95,
   "metadata": {},
   "outputs": [],
   "source": [
    "dictionnary = \"dictionnaire.xlsx\"\n",
    "df = pd.read_excel(dictionnary)"
   ]
  },
  {
   "cell_type": "code",
   "execution_count": 96,
   "metadata": {},
   "outputs": [],
   "source": [
    "def add_sentence(rec):\n",
    "    sentences = [\n",
    "        \"Peux-tu définir le terme {word} ?\",\n",
    "        \"Quelle est la définition de '{word}' ?\",\n",
    "        \"à quoi {word} correspond ?\",\n",
    "        \"J'aimerais savoir à quoi '{word}' correspond.\",\n",
    "        \"Donne la définition de '{word}'.\",\n",
    "        \"Décris ce que '{word}' veut dire.\",\n",
    "        \"Quelle est la définition courte d'un '{word}' ?\",\n",
    "        \"Qu'est ce qu'un {word} ?\",\n",
    "        \"Basé sur le domaine de l'automobile, décris ce qu'est le ou la {word}.\",\n",
    "    ]\n",
    "    rec[\"instruction\"] = choice(sentences).format(word=rec[\"Terme français\"])\n",
    "    return rec"
   ]
  },
  {
   "cell_type": "code",
   "execution_count": 97,
   "metadata": {},
   "outputs": [],
   "source": [
    "def_fr = df[df[\"Définition courte\"].notnull()]\n",
    "termes_fr = def_fr[\"Terme français\"]\n",
    "def_courte = df[\"Définition courte\"]"
   ]
  },
  {
   "cell_type": "code",
   "execution_count": null,
   "metadata": {},
   "outputs": [],
   "source": [
    "for index,value in def_courte.items():\n",
    "    if type(value) == str and value.find(\"Voir aussi\") > 1 : \n",
    "        def_courte[index] = value[:value.find(\"Voir aussi\")]\n",
    "        print(value)\n"
   ]
  },
  {
   "cell_type": "code",
   "execution_count": 99,
   "metadata": {},
   "outputs": [],
   "source": [
    "df_dataset = def_fr[[\"Définition courte\",\"Terme français\"]]\n",
    "df_dataset = df_dataset.rename(columns={\"Définition courte\":\"response\"})\n",
    "# df_dataset.drop(columns=['__index_level_0__'])\n",
    "dataset = Dataset.from_pandas(df_dataset)"
   ]
  },
  {
   "cell_type": "code",
   "execution_count": 1,
   "metadata": {},
   "outputs": [
    {
     "ename": "NameError",
     "evalue": "name 'dataset' is not defined",
     "output_type": "error",
     "traceback": [
      "\u001b[1;31m---------------------------------------------------------------------------\u001b[0m",
      "\u001b[1;31mNameError\u001b[0m                                 Traceback (most recent call last)",
      "\u001b[1;32m~\\AppData\\Local\\Temp/ipykernel_956/48412968.py\u001b[0m in \u001b[0;36m<module>\u001b[1;34m\u001b[0m\n\u001b[1;32m----> 1\u001b[1;33m \u001b[0mdataset\u001b[0m\u001b[1;33m\u001b[0m\u001b[1;33m\u001b[0m\u001b[0m\n\u001b[0m",
      "\u001b[1;31mNameError\u001b[0m: name 'dataset' is not defined"
     ]
    }
   ],
   "source": [
    "dataset"
   ]
  },
  {
   "cell_type": "code",
   "execution_count": 101,
   "metadata": {},
   "outputs": [],
   "source": [
    "# ds = dataset.map(add_sentence,remove_columns=[\"Terme français\",'__index_level_0__'])"
   ]
  },
  {
   "cell_type": "code",
   "execution_count": 90,
   "metadata": {},
   "outputs": [],
   "source": [
    "# ds.save_to_disk(\"michelin_dataset\")"
   ]
  },
  {
   "cell_type": "code",
   "execution_count": 102,
   "metadata": {},
   "outputs": [],
   "source": [
    "dataset = dataset.remove_columns(\"__index_level_0__\")"
   ]
  },
  {
   "cell_type": "code",
   "execution_count": 103,
   "metadata": {},
   "outputs": [
    {
     "data": {
      "application/vnd.jupyter.widget-view+json": {
       "model_id": "08b9ea094db44e94953f4ac9a5e3acde",
       "version_major": 2,
       "version_minor": 0
      },
      "text/plain": [
       "Saving the dataset (0/1 shards):   0%|          | 0/2311 [00:00<?, ? examples/s]"
      ]
     },
     "metadata": {},
     "output_type": "display_data"
    }
   ],
   "source": [
    "dataset.save_to_disk(\"michelin_dataset\")"
   ]
  },
  {
   "cell_type": "code",
   "execution_count": null,
   "metadata": {},
   "outputs": [],
   "source": []
  }
 ],
 "metadata": {
  "kernelspec": {
   "display_name": "base",
   "language": "python",
   "name": "python3"
  },
  "language_info": {
   "codemirror_mode": {
    "name": "ipython",
    "version": 3
   },
   "file_extension": ".py",
   "mimetype": "text/x-python",
   "name": "python",
   "nbconvert_exporter": "python",
   "pygments_lexer": "ipython3",
   "version": "3.9.7"
  },
  "orig_nbformat": 4
 },
 "nbformat": 4,
 "nbformat_minor": 2
}
